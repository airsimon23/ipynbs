{
  "nbformat": 4,
  "nbformat_minor": 0,
  "metadata": {
    "colab": {
      "name": "sliding windows of triples templates to memorize",
      "provenance": []
    },
    "kernelspec": {
      "name": "python3",
      "display_name": "Python 3"
    },
    "language_info": {
      "name": "python"
    }
  },
  "cells": [
    {
      "cell_type": "code",
      "execution_count": null,
      "metadata": {
        "id": "PysZuvsccpgz"
      },
      "outputs": [],
      "source": [
        "#ask ben wood which one to memorize"
      ]
    },
    {
      "cell_type": "code",
      "source": [
        "result = []\n",
        "inBounds = winSize -1\n",
        "for i in range(len(l)-inBounds):\n",
        "\twinVal= []\n",
        "\tFor j in range(winSize):\n",
        "\t\twinVal.append(a[i+j])\n",
        "\tCalculate what they want here ex: avg = sum(winVal)/winSize\n",
        "\tresult.append(avg)\n",
        "return result \n"
      ],
      "metadata": {
        "id": "RwxNs3gLcxNN"
      },
      "execution_count": null,
      "outputs": []
    },
    {
      "cell_type": "code",
      "source": [
        "result = []\n",
        "inBounds = winSize-1\n",
        "for i in range(len(a)-inBounds):\n",
        "  winVal = []\n",
        "  for j in range(winSize):\n",
        "    winVal.append(a[i+j])\n",
        "  calculate stuff\n",
        "  result.append(calculate)\n",
        "return result\n"
      ],
      "metadata": {
        "id": "YD1pzoPwcxWS"
      },
      "execution_count": null,
      "outputs": []
    },
    {
      "cell_type": "code",
      "source": [
        "result = []\n",
        "inBounds = winSize-1\n",
        "for i in range(len(a)-inBounds):\n",
        "  winVal = []\n",
        "  for j in range(winSize):\n",
        "    winVal.append(a[i+j])\n",
        "  calculate what the want\n",
        "  result.append(calc)\n",
        "return result\n"
      ],
      "metadata": {
        "id": "4XGa-Rt9c1rY"
      },
      "execution_count": null,
      "outputs": []
    }
  ]
}