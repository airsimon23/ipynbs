{
  "cells": [
    {
      "cell_type": "markdown",
      "metadata": {
        "id": "a94s5p9ON-Li"
      },
      "source": [
        "<p class='cooltitle' style=\"font-size:35px; text-align:center;\" >Enzyme Kinetics</p>\n",
        "\n",
        "<br><br>\n",
        "\n",
        "In this notebook, we're going to implement some basic enzyme kinetics notions in Python, enzyme kinetics play a major role in Neuroscience as they dictate how ion channels and molecular interaction networks in intracellular signaling are regulated. We're going to use differential equations to express those kinetics because they are considered as the mathematical objects of scientific modeling. "
      ]
    },
    {
      "cell_type": "markdown",
      "metadata": {
        "toc": true,
        "id": "rkb83UgzN-Lo"
      },
      "source": [
        "<h1>Table of contents<span class=\"tocSkip\"></span></h1>\n",
        "<div class=\"toc\"><ul class=\"toc-item\"><li><span><a href=\"#Zero-and-First-Order-Reactions\" data-toc-modified-id=\"Zero-and-First-Order-Reactions-1\"><span class=\"toc-item-num\">1&nbsp;&nbsp;</span>Zero and First Order Reactions</a></span></li><li><span><a href=\"#Enzymatic-Equilibrium\" data-toc-modified-id=\"Enzymatic-Equilibrium-2\"><span class=\"toc-item-num\">2&nbsp;&nbsp;</span>Enzymatic Equilibrium</a></span></li><li><span><a href=\"#Michaelis-Menten-Henri-Equation\" data-toc-modified-id=\"Michaelis-Menten-Henri-Equation-3\"><span class=\"toc-item-num\">3&nbsp;&nbsp;</span>Michaelis-Menten-Henri Equation</a></span></li></ul></div>"
      ]
    },
    {
      "cell_type": "markdown",
      "metadata": {
        "id": "aURyzs8bN-Lp"
      },
      "source": [
        "Let's start by importing some libraries that we'll use mainly here and in the rest of the Notebooks. "
      ]
    },
    {
      "cell_type": "code",
      "execution_count": null,
      "metadata": {
        "hide_input": false,
        "scrolled": true,
        "id": "1KNwdFIhN-Ls"
      },
      "outputs": [],
      "source": [
        "import numpy as np # A Python package for scientific computing \n",
        "import sympy as sp # A Python library for symbolic mathematics  \n",
        "import matplotlib.pyplot as plt # A data visualization Library in Python"
      ]
    },
    {
      "cell_type": "markdown",
      "metadata": {
        "id": "pXmwi0OAN-Lv"
      },
      "source": [
        "# Zero and First Order Reactions\n",
        "<br>\n",
        "\n",
        "\n",
        "- Considering a chemical reaction catalyzed by an enzyme for a reactant $A$ that transforms into a product $B$  : \n",
        "\n",
        "$$A \\xrightarrow{enzyme} B$$\n",
        "\n",
        "> If the concentration of the enzyme is far less than the concentration of $A$, we can say that the enzyme is saturated and the depletion of the reactant $A$ or the appearance of the product $B$ is constant and is independant from the concentration of the reactant $A$.\n",
        "$$\\frac{d[B]}{dt} = - \\frac{d[A]}{dt} = k $$\n",
        "$k$ being the rate constant of the reaction\n",
        "\n",
        "- We can see that this expression is equivalent to : \n",
        "$$\\boxed{- \\frac{d[A]}{dt} = k[A]^0 = k}$$\n",
        ">The rate of the reaction $\\frac{d[A]}{dt}$ does not depend on the concentration of reactants,but only on the rate constant $k$, in what we call a zero-order chemical reaction. This is a differential equation, solving it consists of finding the function that gives the conentration of the reactant in function of time $A(t)$, it is easy to solve at hand but sometimes differential equations get complicated really fast, this is why we  use computers.\n",
        "\n",
        "- If the rate depends linearly upon the concentration of the reactant $A$, the equation becomes :\n",
        "$$\\boxed{- \\frac{d[A]}{dt} = k[A]}$$ \n",
        "> The first order reaction, this too is considered as a differential equation and can be solved the same way as the previous one.\n",
        "\n",
        "\n",
        "- In order to solve differential equations using python, we can use two different approaches : <br>\n",
        ">1 - Analytical methods; by using Python's Sympy library for symbolic mathematics.<br>\n",
        "2 - Numerical Methods; by implementing Euler's method which is used for solving ordinary differential equations (ODEs) and then we can use Python's NumPy Library and its useful N-dimensional array objects that are the cosidered the basis of scientific computing."
      ]
    },
    {
      "cell_type": "markdown",
      "metadata": {
        "id": "M8AV0izEN-Lw"
      },
      "source": [
        "<font size=\"+2\"><b>Zero-order</b></font> <br> <br>\n",
        "**Analytical Method**\n",
        "\n",
        "> Let's start first by initialising Sympy's symbol objects which we will be able to manipulate"
      ]
    },
    {
      "cell_type": "code",
      "execution_count": null,
      "metadata": {
        "cell_style": "center",
        "id": "kTRy3XVHN-Lx"
      },
      "outputs": [],
      "source": [
        "k, t, C1 = sp.symbols(\n",
        "    'k t C1')  # Rate constant k , time t and arbitrary integration constant C1"
      ]
    },
    {
      "cell_type": "markdown",
      "metadata": {
        "id": "XsQMUWV2N-Ly"
      },
      "source": [
        "> The reactant concentration $A$ should be initialised as Sympy Function Object and it should be in the differentiated form with respect to time $t$"
      ]
    },
    {
      "cell_type": "code",
      "execution_count": null,
      "metadata": {
        "cell_style": "center",
        "id": "lgCShiMSN-Lz"
      },
      "outputs": [],
      "source": [
        "A = sp.Function('A')\n",
        "dAdt = A(t).diff(t)"
      ]
    },
    {
      "cell_type": "markdown",
      "metadata": {
        "id": "FEDxR6-7N-L0"
      },
      "source": [
        "> Now we can write the zero order equation"
      ]
    },
    {
      "cell_type": "code",
      "execution_count": null,
      "metadata": {
        "cell_style": "center",
        "scrolled": false,
        "id": "ULPI0KaIN-L2",
        "outputId": "0fe0ee68-bc31-49ee-ff34-576535dea976"
      },
      "outputs": [
        {
          "data": {
            "text/latex": [
              "$\\displaystyle - \\frac{d}{d t} A{\\left(t \\right)} = k$"
            ],
            "text/plain": [
              "Eq(-Derivative(A(t), t), k)"
            ]
          },
          "execution_count": 121,
          "metadata": {},
          "output_type": "execute_result"
        }
      ],
      "source": [
        "zero_order = sp.Eq(-dAdt, k)\n",
        "zero_order"
      ]
    },
    {
      "cell_type": "markdown",
      "metadata": {
        "id": "0QWoLpRQN-L4"
      },
      "source": [
        "> The next step is to solve this differential equation, this can be easily done by using SymPy's function dsolve that takes the equation and the variable to be solved to as parameters."
      ]
    },
    {
      "cell_type": "code",
      "execution_count": null,
      "metadata": {
        "cell_style": "center",
        "scrolled": false,
        "id": "HPoX42BtN-L4",
        "outputId": "61b43ded-7611-474d-9493-046c4e7e3c69"
      },
      "outputs": [
        {
          "data": {
            "text/latex": [
              "$\\displaystyle A{\\left(t \\right)} = C_{1} - k t$"
            ],
            "text/plain": [
              "Eq(A(t), C1 - k*t)"
            ]
          },
          "execution_count": 122,
          "metadata": {},
          "output_type": "execute_result"
        }
      ],
      "source": [
        "analytic_gen_sol_zero = sp.dsolve(zero_order, A(t))\n",
        "analytic_gen_sol_zero"
      ]
    },
    {
      "cell_type": "markdown",
      "metadata": {
        "id": "etaK0693N-L5"
      },
      "source": [
        "> This is the general solution to our differential equation, in order to calculate the arbitrary constant C1 we can initialize $t=0$ in our general solution to find a particular one."
      ]
    },
    {
      "cell_type": "code",
      "execution_count": null,
      "metadata": {
        "cell_style": "center",
        "scrolled": false,
        "id": "kROEnlDMN-L5",
        "outputId": "b73f5715-b0a3-44f9-ecbc-5e06fe029eaf"
      },
      "outputs": [
        {
          "data": {
            "text/latex": [
              "$\\displaystyle A{\\left(0 \\right)} = C_{1}$"
            ],
            "text/plain": [
              "Eq(A(0), C1)"
            ]
          },
          "execution_count": 123,
          "metadata": {},
          "output_type": "execute_result"
        }
      ],
      "source": [
        "C1_zero = analytic_gen_sol_zero.subs(\n",
        "    t, 0)  # This substitutes t with the value of 0 in our general solution\n",
        "C1_zero"
      ]
    },
    {
      "cell_type": "markdown",
      "metadata": {
        "id": "RGD4ryrAN-L5"
      },
      "source": [
        "> The arbitrary constant $C_1$ is the concentration of the reactant at time 0 (the initial condition)"
      ]
    },
    {
      "cell_type": "code",
      "execution_count": null,
      "metadata": {
        "cell_style": "center",
        "scrolled": true,
        "id": "Xx75PXNQN-L6",
        "outputId": "7f5ff60e-f8cc-4b97-c71f-ed4740c9a459"
      },
      "outputs": [
        {
          "data": {
            "text/latex": [
              "$\\displaystyle A{\\left(t \\right)} = - k t + A{\\left(0 \\right)}$"
            ],
            "text/plain": [
              "Eq(A(t), -k*t + A(0))"
            ]
          },
          "execution_count": 124,
          "metadata": {},
          "output_type": "execute_result"
        }
      ],
      "source": [
        "analytic_gen_sol_zero = analytic_gen_sol_zero.subs(C1, A(0))\n",
        "analytic_gen_sol_zero"
      ]
    },
    {
      "cell_type": "markdown",
      "metadata": {
        "id": "TyKmCjnKN-L6"
      },
      "source": [
        "> This is the formula for the general solution of the differential equation, in order to find a particular solution let's consider that the rate constant $k=2$ and the initial concentration of the reactant $A(0) = 10$ "
      ]
    },
    {
      "cell_type": "code",
      "execution_count": null,
      "metadata": {
        "scrolled": false,
        "id": "ueuXyY7nN-L6",
        "outputId": "ed5ee295-8eda-4762-8526-f50fc3af4787"
      },
      "outputs": [
        {
          "data": {
            "text/latex": [
              "$\\displaystyle A{\\left(t \\right)} = 10 - 2 t$"
            ],
            "text/plain": [
              "Eq(A(t), 10 - 2*t)"
            ]
          },
          "execution_count": 125,
          "metadata": {},
          "output_type": "execute_result"
        }
      ],
      "source": [
        "analytic_par_sol_zero = analytic_gen_sol_zero.subs({A(0): 10, k: 2})\n",
        "analytic_par_sol_zero"
      ]
    },
    {
      "cell_type": "markdown",
      "metadata": {
        "id": "Ur12TC29N-L6"
      },
      "source": [
        "> Since this is an algebraic SymPy expression, we cannot numerically evaluate it, we have to transform it into a lambda function, we can use SymPy's lambdify function to achieve that."
      ]
    },
    {
      "cell_type": "code",
      "execution_count": null,
      "metadata": {
        "id": "VHSxugOpN-L6"
      },
      "outputs": [],
      "source": [
        "analytic_sol_zero = sp.lambdify(\n",
        "    t, analytic_par_sol_zero.rhs,\n",
        "    \"numpy\")  # We took the right hand side with .rhs method from our solution"
      ]
    },
    {
      "cell_type": "markdown",
      "metadata": {
        "id": "7nVpZ_B_N-L6"
      },
      "source": [
        "**Numerical Method**\n",
        "\n",
        "> In order to numerically solve differential equations, we have to implement the Euler's method, let's proceed by writing a python function that will work with every differential equation. *For a detailed explanation of Euler's Method, check out Steven Strogatz's Nonlinear dynamics and Chaos*"
      ]
    },
    {
      "cell_type": "code",
      "execution_count": null,
      "metadata": {
        "id": "ksYsqUhuN-L6"
      },
      "outputs": [],
      "source": [
        "def euler(init_cond, *constants,  equation, dt=0.01, Tmax=10):\n",
        "    \"\"\"Euler's Method for solving ODEs.\n",
        "    init_cond :  The initial condition to start solving from.\n",
        "    constants : a variable length argument with constants in the ODE\n",
        "    equation : the differential equation to be solved.\n",
        "    dt : the time interval between every step.\n",
        "    Tmax : the maximal amount of time\n",
        "    \"\"\"\n",
        "    for step in range(int(Tmax / dt)):  # How many steps to take\n",
        "        init_cond += dt * equation(init_cond, *constants)  # Euler's method\n",
        "        yield init_cond  # A generator python expression"
      ]
    },
    {
      "cell_type": "markdown",
      "metadata": {
        "id": "0toMGlb7N-L7"
      },
      "source": [
        "> This Euler function with only 4 lines will take any kind of differential equation and will spit out a generator object that is the solution for a certain array of time. Now we can write the zero-order differential equation as a Lambda function in Python and pass it to our Euler function."
      ]
    },
    {
      "cell_type": "code",
      "execution_count": null,
      "metadata": {
        "id": "ntyP-JO9N-L7"
      },
      "outputs": [],
      "source": [
        "zero_order = lambda c,k : -k"
      ]
    },
    {
      "cell_type": "markdown",
      "metadata": {
        "id": "rXH89ZTzN-L7"
      },
      "source": [
        " > Likewise, Let's take $A(0) = 10$ as our initial used concentration (starting condition) and $k=2$ "
      ]
    },
    {
      "cell_type": "code",
      "execution_count": null,
      "metadata": {
        "id": "FcSRb4jbN-L7"
      },
      "outputs": [],
      "source": [
        "Ao, const = 10, 2"
      ]
    },
    {
      "cell_type": "markdown",
      "metadata": {
        "id": "e_Vk7G3dN-L7"
      },
      "source": [
        "> So the numerical solution is  : "
      ]
    },
    {
      "cell_type": "code",
      "execution_count": null,
      "metadata": {
        "id": "kT5eZClYN-L8"
      },
      "outputs": [],
      "source": [
        "numeric_sol_zero = list(\n",
        "    euler(Ao, const, equation=zero_order\n",
        "          ))  # Transform generator into list to visualize with matplotlib"
      ]
    },
    {
      "cell_type": "markdown",
      "metadata": {
        "id": "wThqo5oSN-L8"
      },
      "source": [
        "**Plotting the solutions** <br>\n",
        "Now that we have both the solution, let's visualize them."
      ]
    },
    {
      "cell_type": "code",
      "execution_count": null,
      "metadata": {
        "id": "qBA6D-NzN-L8"
      },
      "outputs": [],
      "source": [
        "def plot_solutions(t, numeric, analytic, title):\n",
        "    \"\"\"This function plots the numerical and the analytical solutions \n",
        "    to differential equation for a given time vector t\n",
        "    \"\"\"\n",
        "    fig, ax = plt.subplots(1, 2, figsize=(10, 4), dpi=150)\n",
        "    plt.subplot(121)  # Numerical Solution Plot\n",
        "    plt.plot(t, numeric, 'b', label='$A(t)$')\n",
        "    plt.title('Numerical Solution')\n",
        "    plt.legend()\n",
        "    plt.subplot(122)  # Analytical Solution Plot\n",
        "    plt.plot(t, analytic(time), 'g', label='$A(t)$')\n",
        "    plt.xlabel('Time', position=(-0.1, 0))\n",
        "    plt.title('Analytical Solution')\n",
        "    plt.suptitle(title)\n",
        "    plt.legend()"
      ]
    },
    {
      "cell_type": "code",
      "execution_count": null,
      "metadata": {
        "scrolled": false,
        "id": "jD44wYEbN-L8",
        "outputId": "72ddf0a4-8675-4877-a218-a46f6acc9779"
      },
      "outputs": [
        {
          "data": {
            "image/png": "[encoded data removed]",
            "text/plain": [
              "<Figure size 1500x600 with 2 Axes>"
            ]
          },
          "metadata": {
            "needs_background": "light"
          },
          "output_type": "display_data"
        }
      ],
      "source": [
        "time = np.arange(0, 10, 0.01)  # Same vector used for euler's method\n",
        "plot_solutions(time, numeric_sol_zero, analytic_sol_zero, \"Zero-order reaction $A(0)=10$\")"
      ]
    },
    {
      "cell_type": "markdown",
      "metadata": {
        "id": "RzGzVUvfN-L9"
      },
      "source": [
        "<font size=\"+2\"><b>First-order</b></font> <br> <br>\n",
        "**Analytical Method**<br>\n",
        "> We're going to use the same steps taken for zero order"
      ]
    },
    {
      "cell_type": "code",
      "execution_count": null,
      "metadata": {
        "hide_input": false,
        "scrolled": false,
        "id": "MN6fgWmbN-L9",
        "outputId": "7e2b05f8-22f1-4d71-bcef-4bc8eaf3e766"
      },
      "outputs": [
        {
          "data": {
            "text/latex": [
              "$\\displaystyle - \\frac{d}{d t} A{\\left(t \\right)} = k A{\\left(t \\right)}$"
            ],
            "text/plain": [
              "Eq(-Derivative(A(t), t), k*A(t))"
            ]
          },
          "execution_count": 133,
          "metadata": {},
          "output_type": "execute_result"
        }
      ],
      "source": [
        "first_order = sp.Eq(-dAdt, k*A(t))\n",
        "first_order"
      ]
    },
    {
      "cell_type": "markdown",
      "metadata": {
        "id": "WesqJrM3N-L9"
      },
      "source": [
        "> After the first order equation has been initialised, let's find the general solution with SymPy"
      ]
    },
    {
      "cell_type": "code",
      "execution_count": null,
      "metadata": {
        "scrolled": false,
        "id": "DsEv8fRnN-L9",
        "outputId": "7fe86d2a-46b8-4b85-fb27-79479cc29db9"
      },
      "outputs": [
        {
          "data": {
            "text/latex": [
              "$\\displaystyle A{\\left(t \\right)} = C_{1} e^{- k t}$"
            ],
            "text/plain": [
              "Eq(A(t), C1*exp(-k*t))"
            ]
          },
          "execution_count": 134,
          "metadata": {},
          "output_type": "execute_result"
        }
      ],
      "source": [
        "analytic_gen_sol_first = sp.dsolve(first_order, A(t))\n",
        "analytic_gen_sol_first"
      ]
    },
    {
      "cell_type": "markdown",
      "metadata": {
        "id": "klCRKEyRN-L-"
      },
      "source": [
        "> As always, we'll take $t=0$ to find the arbitrary constant"
      ]
    },
    {
      "cell_type": "code",
      "execution_count": null,
      "metadata": {
        "scrolled": false,
        "id": "mv01vHxIN-L-",
        "outputId": "a60e8e48-9625-493c-8221-a9963975959d"
      },
      "outputs": [
        {
          "data": {
            "text/latex": [
              "$\\displaystyle A{\\left(0 \\right)} = C_{1}$"
            ],
            "text/plain": [
              "Eq(A(0), C1)"
            ]
          },
          "execution_count": 135,
          "metadata": {},
          "output_type": "execute_result"
        }
      ],
      "source": [
        "C1_1 = analytic_gen_sol_first.subs(t,0)\n",
        "C1_1"
      ]
    },
    {
      "cell_type": "markdown",
      "metadata": {
        "id": "0gWkxdWDN-L_"
      },
      "source": [
        "> So the solution is :"
      ]
    },
    {
      "cell_type": "code",
      "execution_count": null,
      "metadata": {
        "scrolled": false,
        "id": "tbOECsN3N-L_",
        "outputId": "f8766eca-87af-45f0-cf27-17dd96273d92"
      },
      "outputs": [
        {
          "data": {
            "text/latex": [
              "$\\displaystyle A{\\left(t \\right)} = A{\\left(0 \\right)} e^{- k t}$"
            ],
            "text/plain": [
              "Eq(A(t), A(0)*exp(-k*t))"
            ]
          },
          "execution_count": 136,
          "metadata": {},
          "output_type": "execute_result"
        }
      ],
      "source": [
        "analytic_gen_sol_first = analytic_gen_sol_first.subs(C1, A(0))\n",
        "analytic_gen_sol_first"
      ]
    },
    {
      "cell_type": "markdown",
      "metadata": {
        "id": "wGHKjhW6N-MA"
      },
      "source": [
        "> Now to find a particular solution, let's take $A(0) = 10$ and $k=2$"
      ]
    },
    {
      "cell_type": "code",
      "execution_count": null,
      "metadata": {
        "scrolled": false,
        "id": "S8EPScr2N-MA",
        "outputId": "f16175e7-b5f9-4b10-858c-ca6082555b18"
      },
      "outputs": [
        {
          "data": {
            "text/latex": [
              "$\\displaystyle A{\\left(t \\right)} = 10 e^{- 2 t}$"
            ],
            "text/plain": [
              "Eq(A(t), 10*exp(-2*t))"
            ]
          },
          "execution_count": 137,
          "metadata": {},
          "output_type": "execute_result"
        }
      ],
      "source": [
        "analytic_par_sol_first  = analytic_gen_sol_first.subs({A(0) : 10, k : 2})\n",
        "analytic_par_sol_first"
      ]
    },
    {
      "cell_type": "markdown",
      "metadata": {
        "id": "1onAeUtFN-MB"
      },
      "source": [
        "> And finally we transform it into a lambda function : "
      ]
    },
    {
      "cell_type": "code",
      "execution_count": null,
      "metadata": {
        "id": "8ZrsuRrlN-MB"
      },
      "outputs": [],
      "source": [
        "analytic_sol_first = sp.lambdify(t, analytic_par_sol_first.rhs, \"numpy\")"
      ]
    },
    {
      "cell_type": "markdown",
      "metadata": {
        "id": "H_94K2BpN-MB"
      },
      "source": [
        "**Numerical Method**"
      ]
    },
    {
      "cell_type": "markdown",
      "metadata": {
        "id": "bxwT8rVMN-MB"
      },
      "source": [
        "> Let's initialize a Python function for the First order reaction"
      ]
    },
    {
      "cell_type": "code",
      "execution_count": null,
      "metadata": {
        "id": "x2cotKRWN-MB"
      },
      "outputs": [],
      "source": [
        "first_order = lambda c,k : -k*c"
      ]
    },
    {
      "cell_type": "markdown",
      "metadata": {
        "id": "3_BbH-RiN-MB"
      },
      "source": [
        "> And the solution, using Euler's Method and with the same starting condition and rate constant, will be : "
      ]
    },
    {
      "cell_type": "code",
      "execution_count": null,
      "metadata": {
        "scrolled": false,
        "id": "K908s_S9N-MB"
      },
      "outputs": [],
      "source": [
        "numeric_sol_first = list(euler(Ao, const, equation=first_order))"
      ]
    },
    {
      "cell_type": "markdown",
      "metadata": {
        "id": "6Sx-GVdrN-MB"
      },
      "source": [
        "**Plotting the solutions** <br>\n",
        "And now let's visulaize the solutions"
      ]
    },
    {
      "cell_type": "code",
      "execution_count": null,
      "metadata": {
        "id": "hu3at3eZN-MC",
        "outputId": "96e8e2b9-c4ed-4650-cb41-aa51ce99fa33"
      },
      "outputs": [
        {
          "data": {
            "image/png": "[encoded data removed]",
            "text/plain": [
              "<Figure size 1500x600 with 2 Axes>"
            ]
          },
          "metadata": {
            "needs_background": "light"
          },
          "output_type": "display_data"
        }
      ],
      "source": [
        "plot_solutions(\n",
        "    time, numeric_sol_first, analytic_sol_first,\n",
        "    'First-order reaction $A(0)=10$')  #Same time vector used earlier"
      ]
    },
    {
      "cell_type": "markdown",
      "metadata": {
        "id": "JdD9AC1LN-MC"
      },
      "source": [
        "<hr class=\"sep\">"
      ]
    },
    {
      "cell_type": "markdown",
      "metadata": {
        "id": "nE3-NU8rN-MC"
      },
      "source": [
        "# Enzymatic Equilibrium\n",
        "\n",
        "- Let's consider now a molecule that passes from a chemical conformation to another one in a reversible manner, like an ion channel that opens and closes, this reaction will be : \n",
        "\n",
        "$$A \\overset{\\alpha}{\\underset{\\beta}\\rightleftharpoons} B$$\n",
        "\n",
        "- $[A] + [B] = c_0$ is always constant, and taking into account the law of conservation of mass we can see that : \n",
        "$$\\frac{d[B]}{dt} = \\alpha[A] - \\beta[B]$$\n",
        "\n",
        "<br>\n",
        "\n",
        "- If we take into account the fraction of each conformation where $f_\\alpha + f_\\beta = 1$ : <br>\n",
        "$$\\frac{df_\\beta}{dt} = \\alpha f_\\alpha - \\beta f_\\beta$$\n",
        "\n",
        "- Considering $f_\\alpha = 1 - f_\\beta$, we get : \n",
        "$$\\frac{df}{dt} = \\alpha(1 - f) - \\beta f = \\alpha - (\\alpha + \\beta)f$$\n",
        "\n",
        "<br>\n",
        "\n",
        "\n",
        "- Finally, consider $\\tau = \\frac{1}{\\alpha+\\beta}$ and $f_\\infty = \\frac{\\alpha}{\\alpha+\\beta}$ : \n",
        "\n",
        "$$\\boxed{\\tau\\frac{df}{dt} = f_\\infty - f(t)}$$\n",
        "\n",
        "> This too is a differential equation, now we're going to solve it similairly to zero and first order reactions."
      ]
    },
    {
      "cell_type": "markdown",
      "metadata": {
        "id": "ggnXpoleN-MD"
      },
      "source": [
        "**Analytical Method**\n",
        "> We're going to use SymPy's algebraic notation, let's initialize our constants and functions."
      ]
    },
    {
      "cell_type": "code",
      "execution_count": null,
      "metadata": {
        "id": "M9cTP8OnN-MD"
      },
      "outputs": [],
      "source": [
        "tau, f_infty= sp.symbols('tau f_\\infty')\n",
        "f = sp.Function('f')\n",
        "dfdt = f(t).diff(t)"
      ]
    },
    {
      "cell_type": "markdown",
      "metadata": {
        "id": "FX1eQ9XdN-ME"
      },
      "source": [
        ">Let's see our equation :"
      ]
    },
    {
      "cell_type": "code",
      "execution_count": null,
      "metadata": {
        "scrolled": false,
        "id": "anrxG04-N-MF",
        "outputId": "f43a312e-9c9f-46fe-9019-5243c8e91af9"
      },
      "outputs": [
        {
          "data": {
            "text/latex": [
              "$\\displaystyle \\tau \\frac{d}{d t} f{\\left(t \\right)} = f_\\infty - f{\\left(t \\right)}$"
            ],
            "text/plain": [
              "Eq(tau*Derivative(f(t), t), f_\\infty - f(t))"
            ]
          },
          "execution_count": 145,
          "metadata": {},
          "output_type": "execute_result"
        }
      ],
      "source": [
        "equilibrium = sp.Eq(tau*dfdt, f_infty - f(t))\n",
        "equilibrium"
      ]
    },
    {
      "cell_type": "markdown",
      "metadata": {
        "id": "fVXirAMAN-MH"
      },
      "source": [
        "> Now it's time to see the general solution : "
      ]
    },
    {
      "cell_type": "code",
      "execution_count": null,
      "metadata": {
        "scrolled": false,
        "id": "F_dXDEPwN-MI",
        "outputId": "82fdd913-e007-4a75-ad47-ce4fe32ae4ef"
      },
      "outputs": [
        {
          "data": {
            "text/latex": [
              "$\\displaystyle f{\\left(t \\right)} = f_\\infty + e^{\\frac{C_{1} - t}{\\tau}}$"
            ],
            "text/plain": [
              "Eq(f(t), f_\\infty + exp((C1 - t)/tau))"
            ]
          },
          "execution_count": 146,
          "metadata": {},
          "output_type": "execute_result"
        }
      ],
      "source": [
        "analytic_gen_sol_eq = sp.dsolve(equilibrium, f(t))\n",
        "analytic_gen_sol_eq"
      ]
    },
    {
      "cell_type": "markdown",
      "metadata": {
        "id": "vbBjCT-6N-MI"
      },
      "source": [
        "> Let's find the arbitrary constant $C_1$ "
      ]
    },
    {
      "cell_type": "code",
      "execution_count": null,
      "metadata": {
        "scrolled": false,
        "id": "Ee5hUXjfN-MI",
        "outputId": "b60d6341-7bcd-45df-e2d5-ec492c127f5a"
      },
      "outputs": [
        {
          "data": {
            "text/latex": [
              "$\\displaystyle \\tau \\log{\\left(- f_\\infty + f{\\left(0 \\right)} \\right)} = C_{1}$"
            ],
            "text/plain": [
              "Eq(tau*log(-f_\\infty + f(0)), C1)"
            ]
          },
          "execution_count": 147,
          "metadata": {},
          "output_type": "execute_result"
        }
      ],
      "source": [
        "eq_0 = analytic_gen_sol_eq.subs(t,0) # Considering that t=0\n",
        "C1_eq = sp.Eq(sp.solve(eq_0,C1)[0], C1) # Solving the equation t=0 to find C1\n",
        "C1_eq"
      ]
    },
    {
      "cell_type": "markdown",
      "metadata": {
        "id": "egeEX7AEN-MJ"
      },
      "source": [
        "> And the solution is : "
      ]
    },
    {
      "cell_type": "code",
      "execution_count": null,
      "metadata": {
        "scrolled": false,
        "id": "bE6M00evN-MJ",
        "outputId": "a727e1a8-ce20-4b97-d8eb-948b4a3442bb"
      },
      "outputs": [
        {
          "data": {
            "text/latex": [
              "$\\displaystyle f{\\left(t \\right)} = f_\\infty + e^{\\frac{- t + \\tau \\log{\\left(- f_\\infty + f{\\left(0 \\right)} \\right)}}{\\tau}}$"
            ],
            "text/plain": [
              "Eq(f(t), f_\\infty + exp((-t + tau*log(-f_\\infty + f(0)))/tau))"
            ]
          },
          "execution_count": 148,
          "metadata": {},
          "output_type": "execute_result"
        }
      ],
      "source": [
        "analytic_gen_sol_eq = analytic_gen_sol_eq.subs(C1,C1_eq.lhs)\n",
        "analytic_gen_sol_eq"
      ]
    },
    {
      "cell_type": "markdown",
      "metadata": {
        "id": "lZvKB6rjN-MJ"
      },
      "source": [
        "> It would be interesting to visualize the solution $f(t)$, so let's assign some values for our constants"
      ]
    },
    {
      "cell_type": "code",
      "execution_count": null,
      "metadata": {
        "scrolled": false,
        "id": "q7BpPB4YN-MJ",
        "outputId": "f1df51c2-20cb-4a5c-fda5-6375adcbdc30"
      },
      "outputs": [
        {
          "data": {
            "text/latex": [
              "$\\displaystyle f{\\left(t \\right)} = 6 - 6 e^{- \\frac{t}{2}}$"
            ],
            "text/plain": [
              "Eq(f(t), 6 - 6*exp(-t/2))"
            ]
          },
          "execution_count": 149,
          "metadata": {},
          "output_type": "execute_result"
        }
      ],
      "source": [
        "analytic_par_sol_eq = analytic_gen_sol_eq.subs({f_infty : 6, tau : 2, f(0) : 0})\n",
        "analytic_par_sol_eq"
      ]
    },
    {
      "cell_type": "markdown",
      "metadata": {
        "id": "xt9Ta9agN-MJ"
      },
      "source": [
        "> And the final step is always to transform the SymPy expression into a lambda function : "
      ]
    },
    {
      "cell_type": "code",
      "execution_count": null,
      "metadata": {
        "scrolled": false,
        "id": "an7mtJsHN-MJ"
      },
      "outputs": [],
      "source": [
        "analytic_sol_eq = sp.lambdify(t, analytic_par_sol_eq.rhs, \"numpy\")"
      ]
    },
    {
      "cell_type": "markdown",
      "metadata": {
        "id": "UwodMMudN-MK"
      },
      "source": [
        "**Numerical Method**\n",
        "\n",
        "> We should first create a python function (anonymous function) for our equilibrium reaction : "
      ]
    },
    {
      "cell_type": "code",
      "execution_count": null,
      "metadata": {
        "id": "UqG0WQInN-MK"
      },
      "outputs": [],
      "source": [
        "eq = lambda f,f_oo,tau : (f_oo - f)/ tau"
      ]
    },
    {
      "cell_type": "markdown",
      "metadata": {
        "id": "HyGuOhWjN-MK"
      },
      "source": [
        "> Let's assign some values for our constants"
      ]
    },
    {
      "cell_type": "code",
      "execution_count": null,
      "metadata": {
        "id": "grAAHA_WN-MK"
      },
      "outputs": [],
      "source": [
        "f_const, finfty_const, tau_const = 0, 6, 2"
      ]
    },
    {
      "cell_type": "markdown",
      "metadata": {
        "id": "zowsbKoCN-MK"
      },
      "source": [
        "> And the numerical solution using Euler's method will be : "
      ]
    },
    {
      "cell_type": "code",
      "execution_count": null,
      "metadata": {
        "id": "5bBLGNBBN-MK"
      },
      "outputs": [],
      "source": [
        "numeric_sol_eq = list(euler(f_const, finfty_const, tau_const, equation=eq))"
      ]
    },
    {
      "cell_type": "markdown",
      "metadata": {
        "id": "4auEepBmN-MK"
      },
      "source": [
        "**Plotting the solutions**"
      ]
    },
    {
      "cell_type": "code",
      "execution_count": null,
      "metadata": {
        "id": "wCFXRHVSN-MK",
        "outputId": "7f8f3c50-4686-4d18-cbc5-dc09ac973f5e"
      },
      "outputs": [
        {
          "data": {
            "image/png": "[encoded data removed]",
            "text/plain": [
              "<Figure size 1500x600 with 2 Axes>"
            ]
          },
          "metadata": {
            "needs_background": "light"
          },
          "output_type": "display_data"
        }
      ],
      "source": [
        "plot_solutions(time, numeric_sol_eq, analytic_sol_eq,\n",
        "               'Chemical equilibrium $f(0) = 0$')"
      ]
    },
    {
      "cell_type": "markdown",
      "metadata": {
        "id": "DKnOZjWoN-MK"
      },
      "source": [
        "<hr class=\"sep\">"
      ]
    },
    {
      "cell_type": "markdown",
      "metadata": {
        "id": "Asc9tY3qN-ML"
      },
      "source": [
        "# Michaelis-Menten-Henri Equation\n",
        "\n",
        "\n",
        "\n",
        "- Considering the following reaction : \n",
        "$$ S + E \\overset{k_1}{\\underset{k_{-1}}\\rightleftharpoons} ES \\overset{k_2}{\\rightarrow} P + E$$\n",
        "\n",
        "> Whereas S : Substrate, E : Enzyme, ES : Enzyme-Substrate Complex, P : Product <br>\n",
        "**The Michaelis-Menten equation** is : \n",
        "\n",
        "$$\\boxed{ v = \\frac{d[P]}{dt} = \\frac{V_{max}[S]}{K_m + [S]}}$$\n",
        "> Where $V_{max} = k_2[E]$ and $K_m$ is the Michaelis constant, it is the concentration of the substrate $[S]$ when the initial rate $v$ is equal to $\\frac{V_{max}}{2}$\n",
        "\n",
        "\n",
        "- If we wanted to graphically determine the constants $K_m$ and $V_{max}$, we're going to use **the Lineweaver-Burk representation** of this equation which we obtain by inversing the earlier equation : \n",
        "\n",
        "$$ \\boxed{\\frac{1}{v} = \\frac{K_m}{V_{max}}\\frac{1}{[S]} + \\frac{1}{V_{max}}}$$\n"
      ]
    },
    {
      "cell_type": "markdown",
      "metadata": {
        "id": "lW_kiqg3N-ML"
      },
      "source": [
        "> Let's first start by implementing our two equations : "
      ]
    },
    {
      "cell_type": "code",
      "execution_count": null,
      "metadata": {
        "id": "LCA2K3D4N-ML"
      },
      "outputs": [],
      "source": [
        "def mich_ment(substrate, vmax, km) : \n",
        "    \"\"\"This function returns the rate of the reaction v\n",
        "    from the Michaelis-Menten equation.\n",
        "    Substrate : an array of substrate concentrations\n",
        "    vmax, km : constants of the MM equation, type int\"\"\"\n",
        "    return (vmax*substrate)/(km + substrate)\n",
        "\n",
        "def line_burk(substrate, vmax, km) : \n",
        "    \"\"\"The Lineweaver-Burk representation, it sends back 1/v\n",
        "    Substrate : an array of substrate concentrations\n",
        "    vmax, km : constants of the MM equation, type int\"\"\"\n",
        "    return (km/(vmax*substrate)) + (1/vmax)"
      ]
    },
    {
      "cell_type": "markdown",
      "metadata": {
        "id": "P0tWZNYLN-ML"
      },
      "source": [
        "> Now let's take a look at how they are grapically represented : "
      ]
    },
    {
      "cell_type": "code",
      "execution_count": null,
      "metadata": {
        "id": "udUmSmmtN-ML",
        "outputId": "115d2162-a5aa-4d1a-f41f-8281dfa7f027"
      },
      "outputs": [
        {
          "data": {
            "text/plain": [
              "<matplotlib.legend.Legend at 0x2129b251f08>"
            ]
          },
          "execution_count": 156,
          "metadata": {},
          "output_type": "execute_result"
        },
        {
          "data": {
            "image/png": "[encoded data removed]",
            "text/plain": [
              "<Figure size 1800x750 with 2 Axes>"
            ]
          },
          "metadata": {
            "needs_background": "light"
          },
          "output_type": "display_data"
        }
      ],
      "source": [
        "s = np.arange(0.1,10, 0.1) # Substrate concentrations between 0.1 and 10\n",
        "\n",
        "\n",
        "fig, ax = plt.subplots(1, 2, figsize = (12,5), dpi = 150)\n",
        "plt.subplot(121) # Michaelis-Menten plot\n",
        "plt.plot(s, mich_ment(s,vmax = 6, km= 1)) # v-s curve\n",
        "plt.axhline(y = 6, linestyle = '--', color = 'y', label = '$V_{max}$') # Vmax\n",
        "plt.axvline(x = 1, linestyle = '--', color = 'r')\n",
        "plt.plot(1,3, 'og' , label = '$K_m = 50 \\% V{max}$') # Km\n",
        "plt.title('The Michaelis-Menten equation')\n",
        "plt.xlabel(r'$[S]$')\n",
        "plt.ylabel(r'$v$', rotation = 0)\n",
        "plt.legend()\n",
        "plt.subplot(122) # Lineweaver-Burk plot\n",
        "plt.plot(1/s, line_burk(s,vmax = 6, km= 1)) # 1/v - 1/s curve\n",
        "plt.title('The Lineweaver-Burk representation')\n",
        "plt.axvline(x = 1, linestyle = '--', color = 'r')\n",
        "plt.plot(1,1/3, 'og' , label = r'$\\frac{1}{K_m}$') # 1/Km,  1/Vmax = 1/3\n",
        "plt.xlabel(r'$\\frac{1}{[S]}$')\n",
        "plt.ylabel(r'$\\frac{1}{v}$', rotation = 0)\n",
        "plt.legend()"
      ]
    },
    {
      "cell_type": "markdown",
      "metadata": {
        "id": "4T0K8LNIN-MM"
      },
      "source": [
        "<hr class=\"sep\">"
      ]
    }
  ],
  "metadata": {
    "hide_input": false,
    "kernelspec": {
      "display_name": "Python 3",
      "language": "python",
      "name": "python3"
    },
    "language_info": {
      "codemirror_mode": {
        "name": "ipython",
        "version": 3
      },
      "file_extension": ".py",
      "mimetype": "text/x-python",
      "name": "python",
      "nbconvert_exporter": "python",
      "pygments_lexer": "ipython3",
      "version": "3.7.7"
    },
    "toc": {
      "base_numbering": 1,
      "nav_menu": {
        "height": "490px",
        "width": "913px"
      },
      "number_sections": true,
      "sideBar": true,
      "skip_h1_title": false,
      "title_cell": "Table of contents",
      "title_sidebar": "Contents",
      "toc_cell": true,
      "toc_position": {
        "height": "calc(100% - 180px)",
        "left": "10px",
        "top": "150px",
        "width": "165px"
      },
      "toc_section_display": true,
      "toc_window_display": false
    },
    "varInspector": {
      "cols": {
        "lenName": 16,
        "lenType": 16,
        "lenVar": 40
      },
      "kernels_config": {
        "python": {
          "delete_cmd_postfix": "",
          "delete_cmd_prefix": "del ",
          "library": "var_list.py",
          "varRefreshCmd": "print(var_dic_list())"
        },
        "r": {
          "delete_cmd_postfix": ") ",
          "delete_cmd_prefix": "rm(",
          "library": "var_list.r",
          "varRefreshCmd": "cat(var_dic_list()) "
        }
      },
      "types_to_exclude": [
        "module",
        "function",
        "builtin_function_or_method",
        "instance",
        "_Feature"
      ],
      "window_display": false
    },
    "colab": {
      "provenance": []
    }
  },
  "nbformat": 4,
  "nbformat_minor": 0
}